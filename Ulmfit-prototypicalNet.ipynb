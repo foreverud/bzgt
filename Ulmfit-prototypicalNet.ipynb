{
 "cells": [
  {
   "cell_type": "code",
   "execution_count": 1,
   "metadata": {},
   "outputs": [],
   "source": [
    "%load_ext autoreload\n",
    "%autoreload 2\n",
    "%matplotlib inline"
   ]
  },
  {
   "cell_type": "markdown",
   "metadata": {},
   "source": [
    "# 病种高套（BZGY）小样本建模\n",
    "\n",
    "注： 本notebook 使用fastai2, 请升级 pip install -U fastai\n",
    "https://docs.fast.ai/\n",
    "1. ULMFIT encoder\n",
    "    *  a. 使用全量的门诊住院单据，训练RNN语言模型LM\n",
    "    *  b. 使用DRGS住院单据，精调RNN语言模型LM\n",
    "    *  c. 迁移LM Encoder到分类器模型，训练DRGS明细诊断分类器\n",
    "2.  Prototypical network(https://arxiv.org/abs/1703.05175)\n",
    "    *  a. 通过抽样生成 N-Way,K-shot episode\n",
    "    *  b. 使用1c 的RNN encoder，整合protonet 训练神经网络\n",
    "    *  c. 测试性能\n",
    "        - 训练集中包含的类别\n",
    "        - 训练集未包含的类别\n",
    "  \n",
    "\n",
    " \n",
    "\n",
    "  \n",
    "  "
   ]
  },
  {
   "cell_type": "markdown",
   "metadata": {},
   "source": [
    "## Data Processing (只需运行一次）"
   ]
  },
  {
   "cell_type": "code",
   "execution_count": null,
   "metadata": {},
   "outputs": [],
   "source": [
    "\n",
    "import pyspark.sql.functions as pyspark_F\n",
    "from tqdm import tqdm\n",
    "\n",
    "from fastai import *\n",
    "from fastai.text import *\n",
    "from pyspark import SparkConf\n",
    "from pyspark.sql import SparkSession\n",
    "\n",
    "from pyspark.sql.functions import pandas_udf,PandasUDFType,concat_ws,collect_list\n",
    "from pyspark.sql.types import *\n",
    "\n",
    "# spark.stop()\n",
    "conf = SparkConf().setAppName('BZGT').setMaster('local[*]')\n",
    "spark = SparkSession.builder.config(conf=conf).config(\"spark.driver.memory\", \"35g\").config(\"spark.local.dir\", \"/media/data1/data/tmp\").getOrCreate()\n",
    "spark"
   ]
  },
  {
   "cell_type": "code",
   "execution_count": null,
   "metadata": {},
   "outputs": [],
   "source": [
    "DETAIL_PATH_INHOSP = \"./data/inHosp/detail\"\n",
    "detail_full = spark.read.parquet(DETAIL_PATH_INHOSP)\n",
    "data_full = detail_full.select([\"REGISTER_NO\",\"MED_PROJECT_NAME\"]).groupby(\"REGISTER_NO\").agg(concat_ws(\",\", collect_list(\"MED_PROJECT_NAME\")).alias(\"details\"))\n",
    "data = data_full.toPandas()\n"
   ]
  },
  {
   "cell_type": "code",
   "execution_count": null,
   "metadata": {},
   "outputs": [],
   "source": [
    "data.to_parquet(\"./data/lm.parquet\")\n",
    "data"
   ]
  },
  {
   "cell_type": "code",
   "execution_count": null,
   "metadata": {},
   "outputs": [],
   "source": [
    "REGISTER_PATH = \"./data/inHosp/register\"\n",
    "DETAIL_PATH = \"./data/inHosp/detail\"\n",
    "COMBINED_PATH = \"./data/inHosp/combined\"\n",
    "\n",
    "#从医保报销的单据表中抽取住院单据以及其对应明细清单\n",
    "register = spark.read.parquet(REGISTER_PATH)\n",
    "detail = spark.read.parquet(DETAIL_PATH)\n",
    "combine = spark.read.parquet(COMBINED_PATH)\n",
    "print(register.count())\n",
    "print(detail.count())\n",
    "print(combine.count())\n",
    "\n",
    "### filter out diseases with few samples\n",
    "\n",
    "min_sample = 200\n",
    "\n",
    "icd_diagnosis = \\\n",
    "register.select(['out_hosp_diagnosisname','out_hosp_diagnosiscode']).dropna().\\\n",
    "filter(pyspark_F.length(\"out_hosp_diagnosiscode\")>=5).\\\n",
    "withColumn(\"ICD4\", register.out_hosp_diagnosiscode.substr(0,5)).\\\n",
    "groupby(['out_hosp_diagnosisname','ICD4']).count().\\\n",
    "filter(f\"count >= {min_sample}\").\\\n",
    "sort([\"out_hosp_diagnosisname\",]).collect()\n",
    "\n",
    "icd_diagnosis_dict = {}\n",
    "for row in icd_diagnosis:\n",
    "    icd_diagnosis_dict[row.ICD4] = row.out_hosp_diagnosisname\n",
    "len(icd_diagnosis_dict)\n",
    "\n",
    "data_inhosp = \\\n",
    "combine.filter(pyspark_F.length(\"out_hosp_diagnosiscode\")>=5).\\\n",
    "withColumn(\"ICD4\", combine.out_hosp_diagnosiscode.substr(0,5)).\\\n",
    "filter(pyspark_F.col('ICD4').isin(list(icd_diagnosis_dict.keys()))).toPandas()"
   ]
  },
  {
   "cell_type": "code",
   "execution_count": null,
   "metadata": {},
   "outputs": [],
   "source": [
    "!rm ./data/*.parquet"
   ]
  },
  {
   "cell_type": "code",
   "execution_count": null,
   "metadata": {},
   "outputs": [],
   "source": [
    "DETAIL_PATH_INHOSP = \"./data/inHosp/detail\"\n",
    "detail_full = spark.read.parquet(DETAIL_PATH_INHOSP)\n",
    "data_full = detail_full.select([\"REGISTER_NO\",\"MED_PROJECT_NAME\"]).groupby(\"REGISTER_NO\").agg(concat_ws(\",\", collect_list(\"MED_PROJECT_NAME\")).alias(\"details\"))\n",
    "data = data_full.toPandas()\n",
    "\n",
    "REGISTER_PATH = \"./data/inHosp/register\"\n",
    "DETAIL_PATH = \"./data/inHosp/detail\"\n",
    "COMBINED_PATH = \"./data/inHosp/combined\"\n",
    "\n",
    "#从医保报销的单据表中抽取住院单据以及其对应明细清单\n",
    "register = spark.read.parquet(REGISTER_PATH)\n",
    "detail = spark.read.parquet(DETAIL_PATH)\n",
    "combine = spark.read.parquet(COMBINED_PATH)\n",
    "print(register.count())\n",
    "print(detail.count())\n",
    "print(combine.count())\n",
    "\n",
    "### filter out diseases with few samples\n",
    "\n",
    "min_sample = 200\n",
    "\n",
    "icd_diagnosis = \\\n",
    "register.select(['out_hosp_diagnosisname','out_hosp_diagnosiscode']).dropna().\\\n",
    "filter(pyspark_F.length(\"out_hosp_diagnosiscode\")>=5).\\\n",
    "withColumn(\"ICD4\", register.out_hosp_diagnosiscode.substr(0,5)).\\\n",
    "groupby(['out_hosp_diagnosisname','ICD4']).count().\\\n",
    "filter(f\"count >= {min_sample}\").\\\n",
    "sort([\"out_hosp_diagnosisname\",]).collect()\n",
    "\n",
    "icd_diagnosis_dict = {}\n",
    "for row in icd_diagnosis:\n",
    "    icd_diagnosis_dict[row.ICD4] = row.out_hosp_diagnosisname\n",
    "len(icd_diagnosis_dict)\n",
    "\n",
    "data_inhosp = \\\n",
    "combine.filter(pyspark_F.length(\"out_hosp_diagnosiscode\")>=5).\\\n",
    "withColumn(\"ICD4\", combine.out_hosp_diagnosiscode.substr(0,5)).\\\n",
    "filter(pyspark_F.col('ICD4').isin(list(icd_diagnosis_dict.keys()))).toPandas()"
   ]
  },
  {
   "cell_type": "code",
   "execution_count": null,
   "metadata": {},
   "outputs": [],
   "source": [
    "data_inhosp.to_parquet(\"./data/drgs.parquet\")\n",
    "data_inhosp"
   ]
  },
  {
   "cell_type": "markdown",
   "metadata": {},
   "source": [
    "## ULMFIT - train LM using full dataset"
   ]
  },
  {
   "cell_type": "code",
   "execution_count": null,
   "metadata": {},
   "outputs": [],
   "source": [
    "from fastai.basics import *\n",
    "from fastai.text.all import *\n"
   ]
  },
  {
   "cell_type": "code",
   "execution_count": null,
   "metadata": {},
   "outputs": [],
   "source": [
    "lm = pd.read_parquet(\"./data/lm.parquet\")\n",
    "lm"
   ]
  },
  {
   "cell_type": "code",
   "execution_count": null,
   "metadata": {},
   "outputs": [],
   "source": [
    "splits = RandomSplitter(valid_pct=0.1, seed=42)(lm)\n",
    "splits\n"
   ]
  },
  {
   "cell_type": "code",
   "execution_count": null,
   "metadata": {
    "scrolled": true
   },
   "outputs": [],
   "source": [
    "tls = TfmdLists(lm, [attrgetter(\"text\"), \n",
    "                     Tokenizer.from_df(text_cols='details', \n",
    "                                       tok=SubwordTokenizer(max_vocab_sz=5000)), Numericalize],splits=splits,\n",
    "                dl_type=LMDataLoader)\n"
   ]
  },
  {
   "cell_type": "code",
   "execution_count": null,
   "metadata": {},
   "outputs": [],
   "source": [
    "dataloader = tls.dataloaders(bs=256, seq_len=160)"
   ]
  },
  {
   "cell_type": "code",
   "execution_count": null,
   "metadata": {
    "scrolled": true
   },
   "outputs": [],
   "source": [
    "dataloader.show_batch(max_n=3, trunc_at=60)"
   ]
  },
  {
   "cell_type": "code",
   "execution_count": null,
   "metadata": {},
   "outputs": [],
   "source": [
    "import pickle\n",
    "pickle.dump(dataloader.vocab, open(\"./lm_vocab.pickle\", \"wb\"))  # save it into a file named save.p\n",
    "\n",
    "vocab = pickle.load(open(\"./lm_vocab.pickle\", \"rb\"))\n",
    "assert dataloader.vocab == vocab"
   ]
  },
  {
   "cell_type": "code",
   "execution_count": null,
   "metadata": {},
   "outputs": [],
   "source": [
    "config = awd_lstm_lm_config.copy()\n",
    "config"
   ]
  },
  {
   "cell_type": "code",
   "execution_count": null,
   "metadata": {},
   "outputs": [],
   "source": [
    "learner = language_model_learner(dataloader, AWD_LSTM, pretrained=False,metrics=[accuracy], config=config)"
   ]
  },
  {
   "cell_type": "code",
   "execution_count": null,
   "metadata": {
    "scrolled": false
   },
   "outputs": [],
   "source": [
    "import GPUtil as GPU\n",
    "GPUs = GPU.getGPUs()\n",
    "gpu = GPUs[0]\n",
    "print(\"GPU RAM Free: {0:.0f}MB | Used: {1:.0f}MB | Util {2:3.0f}% | Total {3:.0f}MB\".format(gpu.memoryFree, gpu.memoryUsed, gpu.memoryUtil*100, gpu.memoryTotal))\n"
   ]
  },
  {
   "cell_type": "code",
   "execution_count": null,
   "metadata": {},
   "outputs": [],
   "source": [
    "learner = learner.to_fp16()"
   ]
  },
  {
   "cell_type": "code",
   "execution_count": null,
   "metadata": {},
   "outputs": [],
   "source": [
    "learner.unfreeze()\n",
    "# learner.load('1epoch')\n",
    "\n",
    "learner.fit_one_cycle(1, 5e-3)\n",
    "\n"
   ]
  },
  {
   "cell_type": "code",
   "execution_count": null,
   "metadata": {},
   "outputs": [],
   "source": [
    "learner.save_encoder('lm')\n"
   ]
  },
  {
   "cell_type": "markdown",
   "metadata": {},
   "source": [
    "## fine tune language model using DRGS data"
   ]
  },
  {
   "cell_type": "code",
   "execution_count": null,
   "metadata": {},
   "outputs": [],
   "source": [
    "from fastai.basics import *\n",
    "from fastai.text.all import *\n",
    "\n",
    "\n",
    "drgs = pd.read_parquet(\"./data/drgs.parquet\")\n",
    "drgs"
   ]
  },
  {
   "cell_type": "code",
   "execution_count": null,
   "metadata": {},
   "outputs": [],
   "source": [
    "splits = RandomSplitter(valid_pct=0.1, seed=42)(drgs)\n",
    "splits\n"
   ]
  },
  {
   "cell_type": "code",
   "execution_count": null,
   "metadata": {},
   "outputs": [],
   "source": [
    "vocab = pickle.load(open(\"./lm_vocab.pickle\", \"rb\"))\n",
    "vocab"
   ]
  },
  {
   "cell_type": "code",
   "execution_count": null,
   "metadata": {},
   "outputs": [],
   "source": [
    "tls = TfmdLists(drgs, [attrgetter(\"text\"), \n",
    "                     Tokenizer.from_df(text_cols='details', \n",
    "                                       tok=SubwordTokenizer(sp_model='./tmp/spm.model')), Numericalize(vocab=vocab)],splits=splits,\n",
    "                dl_type=LMDataLoader)\n"
   ]
  },
  {
   "cell_type": "code",
   "execution_count": null,
   "metadata": {
    "scrolled": true
   },
   "outputs": [],
   "source": [
    "dataloader = tls.dataloaders(bs=256, seq_len=160)\n",
    "dataloader.show_batch()"
   ]
  },
  {
   "cell_type": "code",
   "execution_count": null,
   "metadata": {},
   "outputs": [],
   "source": [
    "learner = language_model_learner(dataloader, AWD_LSTM, pretrained=False,metrics=[accuracy])"
   ]
  },
  {
   "cell_type": "code",
   "execution_count": null,
   "metadata": {},
   "outputs": [],
   "source": [
    "learner.load_encoder('lm')"
   ]
  },
  {
   "cell_type": "code",
   "execution_count": null,
   "metadata": {},
   "outputs": [],
   "source": [
    "learner.lr_find()"
   ]
  },
  {
   "cell_type": "code",
   "execution_count": null,
   "metadata": {
    "scrolled": true
   },
   "outputs": [],
   "source": [
    "\n",
    "learner.fit_one_cycle(1, 2e-2)"
   ]
  },
  {
   "cell_type": "code",
   "execution_count": null,
   "metadata": {},
   "outputs": [],
   "source": [
    "learner.save_encoder('drgs')"
   ]
  },
  {
   "cell_type": "code",
   "execution_count": null,
   "metadata": {},
   "outputs": [],
   "source": [
    "learner.unfreeze()\n",
    "learner.fit_one_cycle(1, 2e-2)"
   ]
  },
  {
   "cell_type": "code",
   "execution_count": null,
   "metadata": {},
   "outputs": [],
   "source": [
    "learner.save_encoder('drgs')"
   ]
  },
  {
   "cell_type": "code",
   "execution_count": null,
   "metadata": {},
   "outputs": [],
   "source": [
    "learner.predict(['胰岛素'],n_words=100)"
   ]
  },
  {
   "cell_type": "markdown",
   "metadata": {},
   "source": [
    "## Train classifier using drgs fine-tuned encoder "
   ]
  },
  {
   "cell_type": "code",
   "execution_count": 118,
   "metadata": {},
   "outputs": [
    {
     "data": {
      "text/plain": [
       "((76480, 2), (8498, 2))"
      ]
     },
     "execution_count": 118,
     "metadata": {},
     "output_type": "execute_result"
    }
   ],
   "source": [
    "from fastai.basics import *\n",
    "from fastai.text.all import *\n",
    "\n",
    "\n",
    "drgs = pd.read_parquet(\"./data/drgs.parquet\")\n",
    "drgs\n",
    "\n",
    "\n",
    "from sklearn.model_selection import train_test_split\n",
    "X_train, X_test = train_test_split(drgs[['details','ICD4']],test_size=0.1,stratify=drgs[['ICD4']])\n",
    "X_train.shape,X_test.shape\n"
   ]
  },
  {
   "cell_type": "code",
   "execution_count": 119,
   "metadata": {},
   "outputs": [],
   "source": [
    "vocab = pickle.load(open(\"./lm_vocab.pickle\", \"rb\"))\n",
    "\n",
    "x_tfms = [attrgetter(\"text\"), \n",
    "                        Tokenizer.from_df(text_cols='details', \n",
    "                                       tok=SubwordTokenizer(sp_model='./tmp/spm.model')), Numericalize(vocab=vocab)]\n",
    "\n",
    "y_tfms = [ColReader('ICD4'), Categorize()]"
   ]
  },
  {
   "cell_type": "code",
   "execution_count": 120,
   "metadata": {},
   "outputs": [
    {
     "data": {
      "text/plain": [
       "((#68832) [66233,1520,43578,71826,30332,71564,50199,28235,74829,30305...],\n",
       " (#7648) [33702,67440,49980,56840,38146,60040,9798,498,47294,3282...])"
      ]
     },
     "execution_count": 120,
     "metadata": {},
     "output_type": "execute_result"
    }
   ],
   "source": [
    "splits = RandomSplitter(valid_pct=0.1, seed=42)(X_train)\n",
    "splits\n"
   ]
  },
  {
   "cell_type": "code",
   "execution_count": 121,
   "metadata": {},
   "outputs": [
    {
     "data": {
      "text/html": [],
      "text/plain": [
       "<IPython.core.display.HTML object>"
      ]
     },
     "metadata": {},
     "output_type": "display_data"
    },
    {
     "name": "stderr",
     "output_type": "stream",
     "text": [
      "/media/data1/ubuntu/repository/zhaohang/RiskAnalytics/src/main/python/venv/lib/python3.6/site-packages/numpy/core/_asarray.py:83: VisibleDeprecationWarning: Creating an ndarray from ragged nested sequences (which is a list-or-tuple of lists-or-tuples-or ndarrays with different lengths or shapes) is deprecated. If you meant to do this, you must specify 'dtype=object' when creating the ndarray\n",
      "  return array(a, dtype, copy=False, order=order)\n"
     ]
    },
    {
     "data": {
      "text/html": [
       "<table border=\"1\" class=\"dataframe\">\n",
       "  <thead>\n",
       "    <tr style=\"text-align: right;\">\n",
       "      <th></th>\n",
       "      <th>text</th>\n",
       "      <th>category</th>\n",
       "    </tr>\n",
       "  </thead>\n",
       "  <tbody>\n",
       "    <tr>\n",
       "      <th>0</th>\n",
       "      <td>▁xxbos ▁ , 肺通气功能检查 , 丙泊酚 , 一次性鼻导管 , 血清碱性磷酸酶测定 , 预知子 ( 配 方 颗粒 ), 持续呼吸功能监测 , 多潘立酮 , 普通病房床位费 , 血浆 d - 二 聚 体测定 ( d - d im er ), 血清高密度脂蛋白胆固醇测定 , 无机磷测定 , 常规心电图检查 , 血清白蛋白测定 , 胰酶 , 陈皮 ( 配 方 颗粒 ), 一次性过滤器 , 阿托品 , 乙肝表面抗 体测定 ( an t i - hbs ), 血清天门冬氨酸氨基转移酶测定 , 肠 排 列 术 ( 固定术 ), 布地奈德 , 心电监护 , 中心 监护 病房床位费 ( 14 日 内 ), 依托咪酯 , 麻醉恢复室监护 , 一次性延长管 , 微量泵或输液泵加收 , 深静脉导管 , 抗 j o -1 抗体测定 , 甘草 ( 配 方 颗粒 ), 电凝切割器 , 胺碘酮 , 抗 p m - sc i 抗体测定 , 乙肝 e 抗原测定 ( hbe ag ), 维生素 b 6, 压力传感器 , 硝酸甘油 , 乳酸脱氢酶测定 , 红细胞 比 积测定 ( hc t ), 中心静脉 压 测定 , 白术 ( 配</td>\n",
       "      <td>Z85.9</td>\n",
       "    </tr>\n",
       "    <tr>\n",
       "      <th>1</th>\n",
       "      <td>xxpad xxpad xxpad xxpad xxpad xxpad xxpad xxpad xxpad xxpad xxpad xxpad xxpad xxpad xxpad xxpad xxpad xxpad xxpad xxpad xxpad xxpad xxpad xxpad xxpad xxpad xxpad xxpad xxpad xxpad xxpad xxpad xxpad xxpad xxpad xxpad xxpad xxpad xxpad xxpad xxpad xxpad xxpad xxpad xxpad xxpad xxpad xxpad xxpad xxpad xxpad xxpad xxpad xxpad xxpad xxpad xxpad xxpad xxpad xxpad xxpad xxpad xxpad xxpad xxpad xxpad xxpad xxpad xxpad xxpad xxpad xxpad ▁xxbos ▁ , 屈他维林 , 骨髓特殊染色及酶组织化学染色检查 , 丙泊酚 , 一次性鼻导管 , 胞磷胆碱 ( 胞 二 磷胆碱 ), 手工分 冰冻 血浆 ( f fp ), 持续呼吸功能监测 , 沙丁胺醇 , 普通病房床位费 , 血浆 d - 二 聚 体测定 ( d - d im er ), 常规心电图检查 , 层流洁净...</td>\n",
       "      <td>K56.7</td>\n",
       "    </tr>\n",
       "    <tr>\n",
       "      <th>2</th>\n",
       "      <td>xxpad xxpad xxpad xxpad xxpad xxpad xxpad xxpad xxpad xxpad xxpad xxpad xxpad xxpad xxpad xxpad xxpad xxpad xxpad xxpad xxpad xxpad xxpad xxpad xxpad xxpad xxpad xxpad xxpad xxpad xxpad xxpad xxpad xxpad xxpad xxpad xxpad xxpad xxpad xxpad xxpad xxpad xxpad xxpad xxpad xxpad xxpad xxpad xxpad xxpad xxpad xxpad xxpad xxpad xxpad xxpad xxpad xxpad xxpad xxpad xxpad xxpad xxpad xxpad xxpad xxpad xxpad xxpad xxpad xxpad xxpad xxpad ▁xxbos ▁ , 戊 型肝炎抗体 测定 ( igg ), rh 阴性 红细胞悬液 , 雷贝拉唑 , 参麦注射液 , 磁 共 振 扫描 ( 永 磁 型 ), 丙泊酚 , 一次性鼻导管 , 血清碱性磷酸酶测定 , 红细胞 沉 降 率 测定 ( e s r ), 多潘立酮 , 沙丁胺醇 , 普通病房床位费 , 尿素测定 ( 急诊...</td>\n",
       "      <td>K92.2</td>\n",
       "    </tr>\n",
       "    <tr>\n",
       "      <th>3</th>\n",
       "      <td>xxpad xxpad xxpad xxpad xxpad xxpad xxpad xxpad xxpad xxpad xxpad xxpad xxpad xxpad xxpad xxpad xxpad xxpad xxpad xxpad xxpad xxpad xxpad xxpad xxpad xxpad xxpad xxpad xxpad xxpad xxpad xxpad xxpad xxpad xxpad xxpad xxpad xxpad xxpad xxpad xxpad xxpad xxpad xxpad xxpad xxpad xxpad xxpad xxpad xxpad xxpad xxpad xxpad xxpad xxpad xxpad xxpad xxpad xxpad xxpad xxpad xxpad xxpad xxpad xxpad xxpad xxpad xxpad xxpad xxpad xxpad xxpad xxpad xxpad xxpad xxpad xxpad xxpad xxpad xxpad xxpad xxpad xxpad xxpad xxpad xxpad xxpad xxpad xxpad xxpad xxpad xxpad xxpad xxpad xxpad xxpad xxpad xxpad xxpad xx...</td>\n",
       "      <td>C18.9</td>\n",
       "    </tr>\n",
       "    <tr>\n",
       "      <th>4</th>\n",
       "      <td>xxpad xxpad xxpad xxpad xxpad xxpad xxpad xxpad xxpad xxpad xxpad xxpad xxpad xxpad xxpad xxpad xxpad xxpad xxpad xxpad xxpad xxpad xxpad xxpad xxpad xxpad xxpad xxpad xxpad xxpad xxpad xxpad xxpad xxpad xxpad xxpad xxpad xxpad xxpad xxpad xxpad xxpad xxpad xxpad xxpad xxpad xxpad xxpad xxpad xxpad xxpad xxpad xxpad xxpad xxpad xxpad xxpad xxpad xxpad xxpad xxpad xxpad xxpad xxpad xxpad xxpad xxpad xxpad xxpad xxpad xxpad xxpad xxpad xxpad xxpad xxpad xxpad xxpad xxpad xxpad xxpad xxpad xxpad xxpad xxpad xxpad xxpad xxpad xxpad xxpad xxpad xxpad xxpad xxpad xxpad xxpad xxpad xxpad xxpad xx...</td>\n",
       "      <td>C34.9</td>\n",
       "    </tr>\n",
       "    <tr>\n",
       "      <th>5</th>\n",
       "      <td>xxpad xxpad xxpad xxpad xxpad xxpad xxpad xxpad xxpad xxpad xxpad xxpad xxpad xxpad xxpad xxpad xxpad xxpad xxpad xxpad xxpad xxpad xxpad xxpad xxpad xxpad xxpad xxpad xxpad xxpad xxpad xxpad xxpad xxpad xxpad xxpad xxpad xxpad xxpad xxpad xxpad xxpad xxpad xxpad xxpad xxpad xxpad xxpad xxpad xxpad xxpad xxpad xxpad xxpad xxpad xxpad xxpad xxpad xxpad xxpad xxpad xxpad xxpad xxpad xxpad xxpad xxpad xxpad xxpad xxpad xxpad xxpad xxpad xxpad xxpad xxpad xxpad xxpad xxpad xxpad xxpad xxpad xxpad xxpad xxpad xxpad xxpad xxpad xxpad xxpad xxpad xxpad xxpad xxpad xxpad xxpad xxpad xxpad xxpad xx...</td>\n",
       "      <td>C16.9</td>\n",
       "    </tr>\n",
       "    <tr>\n",
       "      <th>6</th>\n",
       "      <td>xxpad xxpad xxpad xxpad xxpad xxpad xxpad xxpad xxpad xxpad xxpad xxpad xxpad xxpad xxpad xxpad xxpad xxpad xxpad xxpad xxpad xxpad xxpad xxpad xxpad xxpad xxpad xxpad xxpad xxpad xxpad xxpad xxpad xxpad xxpad xxpad xxpad xxpad xxpad xxpad xxpad xxpad xxpad xxpad xxpad xxpad xxpad xxpad xxpad xxpad xxpad xxpad xxpad xxpad xxpad xxpad xxpad xxpad xxpad xxpad xxpad xxpad xxpad xxpad xxpad xxpad xxpad xxpad xxpad xxpad xxpad xxpad xxpad xxpad xxpad xxpad xxpad xxpad xxpad xxpad xxpad xxpad xxpad xxpad xxpad xxpad xxpad xxpad xxpad xxpad xxpad xxpad xxpad xxpad xxpad xxpad xxpad xxpad xxpad xx...</td>\n",
       "      <td>J98.4</td>\n",
       "    </tr>\n",
       "    <tr>\n",
       "      <th>7</th>\n",
       "      <td>xxpad xxpad xxpad xxpad xxpad xxpad xxpad xxpad xxpad xxpad xxpad xxpad xxpad xxpad xxpad xxpad xxpad xxpad xxpad xxpad xxpad xxpad xxpad xxpad xxpad xxpad xxpad xxpad xxpad xxpad xxpad xxpad xxpad xxpad xxpad xxpad xxpad xxpad xxpad xxpad xxpad xxpad xxpad xxpad xxpad xxpad xxpad xxpad xxpad xxpad xxpad xxpad xxpad xxpad xxpad xxpad xxpad xxpad xxpad xxpad xxpad xxpad xxpad xxpad xxpad xxpad xxpad xxpad xxpad xxpad xxpad xxpad xxpad xxpad xxpad xxpad xxpad xxpad xxpad xxpad xxpad xxpad xxpad xxpad xxpad xxpad xxpad xxpad xxpad xxpad xxpad xxpad xxpad xxpad xxpad xxpad xxpad xxpad xxpad xx...</td>\n",
       "      <td>J20.9</td>\n",
       "    </tr>\n",
       "    <tr>\n",
       "      <th>8</th>\n",
       "      <td>xxpad xxpad xxpad xxpad xxpad xxpad xxpad xxpad xxpad xxpad xxpad xxpad xxpad xxpad xxpad xxpad xxpad xxpad xxpad xxpad xxpad xxpad xxpad xxpad xxpad xxpad xxpad xxpad xxpad xxpad xxpad xxpad xxpad xxpad xxpad xxpad xxpad xxpad xxpad xxpad xxpad xxpad xxpad xxpad xxpad xxpad xxpad xxpad xxpad xxpad xxpad xxpad xxpad xxpad xxpad xxpad xxpad xxpad xxpad xxpad xxpad xxpad xxpad xxpad xxpad xxpad xxpad xxpad xxpad xxpad xxpad xxpad xxpad xxpad xxpad xxpad xxpad xxpad xxpad xxpad xxpad xxpad xxpad xxpad xxpad xxpad xxpad xxpad xxpad xxpad xxpad xxpad xxpad xxpad xxpad xxpad xxpad xxpad xxpad xx...</td>\n",
       "      <td>I63.9</td>\n",
       "    </tr>\n",
       "  </tbody>\n",
       "</table>"
      ],
      "text/plain": [
       "<IPython.core.display.HTML object>"
      ]
     },
     "metadata": {},
     "output_type": "display_data"
    }
   ],
   "source": [
    "dsets = Datasets(X_train,[x_tfms, y_tfms] ,splits=splits,dl_type=SortedDL)\n",
    "\n",
    "\n",
    "dls = dsets.dataloaders(bs=64,before_batch=pad_input_chunk)\n",
    "dls.show_batch()"
   ]
  },
  {
   "cell_type": "code",
   "execution_count": 122,
   "metadata": {},
   "outputs": [],
   "source": [
    "# save ICD to index map for later\n",
    "import pickle\n",
    "pickle.dump(dls.categorize.vocab, open(\"./categorize_vocab.pickle\", \"wb\"))  # save it into a file named save.p\n"
   ]
  },
  {
   "cell_type": "code",
   "execution_count": null,
   "metadata": {},
   "outputs": [],
   "source": [
    "xb,yb = dls.one_batch()\n",
    "xb.shape,yb.shape"
   ]
  },
  {
   "cell_type": "code",
   "execution_count": 123,
   "metadata": {},
   "outputs": [],
   "source": [
    "learn = text_classifier_learner(dls, AWD_LSTM, drop_mult=0.5,lin_ftrs=[600,300], metrics=accuracy)\n"
   ]
  },
  {
   "cell_type": "code",
   "execution_count": 129,
   "metadata": {},
   "outputs": [
    {
     "data": {
      "text/plain": [
       "SequentialRNN(\n",
       "  (0): SentenceEncoder(\n",
       "    (module): AWD_LSTM(\n",
       "      (encoder): Embedding(4640, 400, padding_idx=1)\n",
       "      (encoder_dp): EmbeddingDropout(\n",
       "        (emb): Embedding(4640, 400, padding_idx=1)\n",
       "      )\n",
       "      (rnns): ModuleList(\n",
       "        (0): WeightDropout(\n",
       "          (module): LSTM(400, 1152, batch_first=True)\n",
       "        )\n",
       "        (1): WeightDropout(\n",
       "          (module): LSTM(1152, 1152, batch_first=True)\n",
       "        )\n",
       "        (2): WeightDropout(\n",
       "          (module): LSTM(1152, 400, batch_first=True)\n",
       "        )\n",
       "      )\n",
       "      (input_dp): RNNDropout()\n",
       "      (hidden_dps): ModuleList(\n",
       "        (0): RNNDropout()\n",
       "        (1): RNNDropout()\n",
       "        (2): RNNDropout()\n",
       "      )\n",
       "    )\n",
       "  )\n",
       "  (1): PoolingLinearClassifier(\n",
       "    (layers): Sequential(\n",
       "      (0): LinBnDrop(\n",
       "        (0): BatchNorm1d(1200, eps=1e-05, momentum=0.1, affine=True, track_running_stats=True)\n",
       "        (1): Dropout(p=0.2, inplace=False)\n",
       "        (2): Linear(in_features=1200, out_features=600, bias=False)\n",
       "        (3): ReLU(inplace=True)\n",
       "      )\n",
       "      (1): LinBnDrop(\n",
       "        (0): BatchNorm1d(600, eps=1e-05, momentum=0.1, affine=True, track_running_stats=True)\n",
       "        (1): Dropout(p=0.1, inplace=False)\n",
       "        (2): Linear(in_features=600, out_features=300, bias=False)\n",
       "        (3): ReLU(inplace=True)\n",
       "      )\n",
       "      (2): LinBnDrop(\n",
       "        (0): BatchNorm1d(300, eps=1e-05, momentum=0.1, affine=True, track_running_stats=True)\n",
       "        (1): Dropout(p=0.1, inplace=False)\n",
       "        (2): Linear(in_features=300, out_features=118, bias=False)\n",
       "      )\n",
       "    )\n",
       "  )\n",
       ")"
      ]
     },
     "execution_count": 129,
     "metadata": {},
     "output_type": "execute_result"
    }
   ],
   "source": [
    "learn.model"
   ]
  },
  {
   "cell_type": "code",
   "execution_count": null,
   "metadata": {},
   "outputs": [],
   "source": [
    "# learn = learn.load(\"classifier\")"
   ]
  },
  {
   "cell_type": "code",
   "execution_count": 125,
   "metadata": {},
   "outputs": [],
   "source": [
    "learn = learn.load_encoder('drgs')\n"
   ]
  },
  {
   "cell_type": "code",
   "execution_count": 126,
   "metadata": {},
   "outputs": [
    {
     "data": {
      "text/html": [],
      "text/plain": [
       "<IPython.core.display.HTML object>"
      ]
     },
     "metadata": {},
     "output_type": "display_data"
    },
    {
     "data": {
      "text/plain": [
       "SuggestedLRs(lr_min=0.002754228748381138, lr_steep=0.00363078061491251)"
      ]
     },
     "execution_count": 126,
     "metadata": {},
     "output_type": "execute_result"
    },
    {
     "data": {
      "image/png": "[encoded data removed]",
      "text/plain": [
       "<Figure size 432x288 with 1 Axes>"
      ]
     },
     "metadata": {
      "needs_background": "light"
     },
     "output_type": "display_data"
    }
   ],
   "source": [
    "learn.lr_find()"
   ]
  },
  {
   "cell_type": "code",
   "execution_count": 132,
   "metadata": {
    "scrolled": true
   },
   "outputs": [
    {
     "data": {
      "text/html": [
       "<table border=\"1\" class=\"dataframe\">\n",
       "  <thead>\n",
       "    <tr style=\"text-align: left;\">\n",
       "      <th>epoch</th>\n",
       "      <th>train_loss</th>\n",
       "      <th>valid_loss</th>\n",
       "      <th>accuracy</th>\n",
       "      <th>time</th>\n",
       "    </tr>\n",
       "  </thead>\n",
       "  <tbody>\n",
       "    <tr>\n",
       "      <td>0</td>\n",
       "      <td>1.648748</td>\n",
       "      <td>1.827209</td>\n",
       "      <td>0.526151</td>\n",
       "      <td>02:51</td>\n",
       "    </tr>\n",
       "    <tr>\n",
       "      <td>1</td>\n",
       "      <td>1.560205</td>\n",
       "      <td>1.792284</td>\n",
       "      <td>0.533734</td>\n",
       "      <td>02:52</td>\n",
       "    </tr>\n",
       "    <tr>\n",
       "      <td>2</td>\n",
       "      <td>1.578078</td>\n",
       "      <td>1.774404</td>\n",
       "      <td>0.542103</td>\n",
       "      <td>02:52</td>\n",
       "    </tr>\n",
       "    <tr>\n",
       "      <td>3</td>\n",
       "      <td>1.453282</td>\n",
       "      <td>1.739610</td>\n",
       "      <td>0.546810</td>\n",
       "      <td>02:54</td>\n",
       "    </tr>\n",
       "  </tbody>\n",
       "</table>"
      ],
      "text/plain": [
       "<IPython.core.display.HTML object>"
      ]
     },
     "metadata": {},
     "output_type": "display_data"
    }
   ],
   "source": [
    "learn.fit_one_cycle(4, 3e-3)\n"
   ]
  },
  {
   "cell_type": "code",
   "execution_count": null,
   "metadata": {},
   "outputs": [
    {
     "data": {
      "text/html": [
       "\n",
       "    <div>\n",
       "        <style>\n",
       "            /* Turns off some styling */\n",
       "            progress {\n",
       "                /* gets rid of default border in Firefox and Opera. */\n",
       "                border: none;\n",
       "                /* Needs to be in here for Safari polyfill so background images work as expected. */\n",
       "                background-size: auto;\n",
       "            }\n",
       "            .progress-bar-interrupted, .progress-bar-interrupted::-webkit-progress-bar {\n",
       "                background: #F44336;\n",
       "            }\n",
       "        </style>\n",
       "      <progress value='7' class='' max='10' style='width:300px; height:20px; vertical-align: middle;'></progress>\n",
       "      70.00% [7/10 48:33<20:48]\n",
       "    </div>\n",
       "    \n",
       "<table border=\"1\" class=\"dataframe\">\n",
       "  <thead>\n",
       "    <tr style=\"text-align: left;\">\n",
       "      <th>epoch</th>\n",
       "      <th>train_loss</th>\n",
       "      <th>valid_loss</th>\n",
       "      <th>accuracy</th>\n",
       "      <th>time</th>\n",
       "    </tr>\n",
       "  </thead>\n",
       "  <tbody>\n",
       "    <tr>\n",
       "      <td>0</td>\n",
       "      <td>1.275517</td>\n",
       "      <td>1.617632</td>\n",
       "      <td>0.568253</td>\n",
       "      <td>06:55</td>\n",
       "    </tr>\n",
       "    <tr>\n",
       "      <td>1</td>\n",
       "      <td>1.303509</td>\n",
       "      <td>1.577558</td>\n",
       "      <td>0.562500</td>\n",
       "      <td>06:55</td>\n",
       "    </tr>\n",
       "    <tr>\n",
       "      <td>2</td>\n",
       "      <td>1.222806</td>\n",
       "      <td>1.584961</td>\n",
       "      <td>0.572829</td>\n",
       "      <td>07:04</td>\n",
       "    </tr>\n",
       "    <tr>\n",
       "      <td>3</td>\n",
       "      <td>1.216910</td>\n",
       "      <td>1.565089</td>\n",
       "      <td>0.573876</td>\n",
       "      <td>06:49</td>\n",
       "    </tr>\n",
       "    <tr>\n",
       "      <td>4</td>\n",
       "      <td>1.152769</td>\n",
       "      <td>1.538229</td>\n",
       "      <td>0.580152</td>\n",
       "      <td>06:49</td>\n",
       "    </tr>\n",
       "    <tr>\n",
       "      <td>5</td>\n",
       "      <td>1.129440</td>\n",
       "      <td>1.564903</td>\n",
       "      <td>0.586559</td>\n",
       "      <td>06:54</td>\n",
       "    </tr>\n",
       "    <tr>\n",
       "      <td>6</td>\n",
       "      <td>1.050473</td>\n",
       "      <td>1.561171</td>\n",
       "      <td>0.589958</td>\n",
       "      <td>07:04</td>\n",
       "    </tr>\n",
       "  </tbody>\n",
       "</table><p>\n",
       "\n",
       "    <div>\n",
       "        <style>\n",
       "            /* Turns off some styling */\n",
       "            progress {\n",
       "                /* gets rid of default border in Firefox and Opera. */\n",
       "                border: none;\n",
       "                /* Needs to be in here for Safari polyfill so background images work as expected. */\n",
       "                background-size: auto;\n",
       "            }\n",
       "            .progress-bar-interrupted, .progress-bar-interrupted::-webkit-progress-bar {\n",
       "                background: #F44336;\n",
       "            }\n",
       "        </style>\n",
       "      <progress value='322' class='' max='1075' style='width:300px; height:20px; vertical-align: middle;'></progress>\n",
       "      29.95% [322/1075 01:59<04:38 1.0719]\n",
       "    </div>\n",
       "    "
      ],
      "text/plain": [
       "<IPython.core.display.HTML object>"
      ]
     },
     "metadata": {},
     "output_type": "display_data"
    }
   ],
   "source": [
    "lr=1e-2\n",
    "learn.unfreeze()\n",
    "learn.fit_one_cycle(10, slice(lr/10/(2.6**4),lr/10))"
   ]
  },
  {
   "cell_type": "code",
   "execution_count": 178,
   "metadata": {},
   "outputs": [
    {
     "data": {
      "text/plain": [
       "Path('models/classifier.pth')"
      ]
     },
     "execution_count": 178,
     "metadata": {},
     "output_type": "execute_result"
    }
   ],
   "source": [
    "learn.save(\"classifier\")"
   ]
  },
  {
   "cell_type": "markdown",
   "metadata": {},
   "source": [
    "### test classifier performance"
   ]
  },
  {
   "cell_type": "code",
   "execution_count": 1,
   "metadata": {},
   "outputs": [],
   "source": [
    "def load_rnn_learner(test_df, model_fn='classifier'):\n",
    "    \"\"\"\n",
    "    test_df: data to predicate \n",
    "    model_fn: exported model file name\n",
    "    \"\"\"\n",
    "    vocab = pickle.load(open(\"./lm_vocab.pickle\", \"rb\"))\n",
    "    categorize_vocab =  pickle.load(open(\"./categorize_vocab.pickle\", \"rb\"))\n",
    "\n",
    "    x_tfms = [attrgetter(\"text\"), \n",
    "                            Tokenizer.from_df(text_cols='details', \n",
    "                                           tok=SubwordTokenizer(sp_model='./tmp/spm.model')), Numericalize(vocab=vocab)]\n",
    "\n",
    "    y_tfms = [ColReader('ICD4'), Categorize(vocab = categorize_vocab)]\n",
    "\n",
    "    test_dl = Datasets(test_df,[x_tfms, y_tfms],dl_type=SortedDL).dataloaders(bs=64,before_batch=pad_input_chunk)\n",
    "    learn = text_classifier_learner(test_dl, AWD_LSTM, lin_ftrs=[600,300], drop_mult=0.5, metrics=accuracy)\n",
    "    learn.load(model_fn)\n",
    "    return learn"
   ]
  },
  {
   "cell_type": "raw",
   "metadata": {
    "scrolled": true
   },
   "source": [
    "X_test.shape\n",
    "\n",
    "test_learner = load_rnn_learner(X_test)\n",
    "\n",
    "xb,yb = test_dl.train.one_batch()\n",
    "xb.shape,yb.shape\n",
    "\n",
    "preds = test_learner.get_preds(ds_idx=0,reorder=False)\n",
    "\n",
    "preds[0].shape,preds[1].shape\n",
    "\n",
    "\n",
    "torch.eq(torch.argmax(preds[0],dim=1), preds[1]).float().mean()\n",
    "\n",
    "pred_icd = [y_tfms[1].vocab[i] for i in (torch.argmax(preds[0],dim=1).numpy())]\n",
    "target =[y_tfms[1].vocab[i] for i in preds[1].numpy()]\n",
    "\n",
    "from sklearn.metrics import classification_report, accuracy_score,confusion_matrix\n",
    "\n",
    "print(classification_report(list(pred_icd),list(target)))"
   ]
  },
  {
   "cell_type": "markdown",
   "metadata": {},
   "source": [
    "## Prototypical network"
   ]
  },
  {
   "cell_type": "code",
   "execution_count": 2,
   "metadata": {},
   "outputs": [
    {
     "data": {
      "text/plain": [
       "((76480, 2), (8498, 2))"
      ]
     },
     "execution_count": 2,
     "metadata": {},
     "output_type": "execute_result"
    }
   ],
   "source": [
    "from fastai.basics import *\n",
    "from fastai.text.all import *\n",
    "\n",
    "\n",
    "drgs = pd.read_parquet(\"./data/drgs.parquet\")\n",
    "drgs\n",
    "\n",
    "\n",
    "from sklearn.model_selection import train_test_split\n",
    "X_train, X_test = train_test_split(drgs[['details','ICD4']],test_size=0.1,stratify=drgs[['ICD4']])\n",
    "X_train.shape,X_test.shape\n"
   ]
  },
  {
   "cell_type": "markdown",
   "metadata": {},
   "source": [
    "###  Episode"
   ]
  },
  {
   "cell_type": "code",
   "execution_count": 3,
   "metadata": {},
   "outputs": [],
   "source": [
    "from fastai.text.all import *\n",
    "import pandas as pd\n",
    "from pandas import DataFrame\n",
    "from dataclasses import dataclass\n",
    "\n",
    "\n",
    "# Episode is the basic unit for prototypical network training\n",
    "@dataclass\n",
    "class Episode:\n",
    "    idx:int\n",
    "    n_way: int\n",
    "    k_shot: int\n",
    "    # datum: [{label: 'E14', query_set : [dt1,dt2...], support_set : [dt1,dt2,...]},]\n",
    "    datum: list\n",
    "\n",
    "    def _convert_to_df(self):\n",
    "        output = []\n",
    "        assert len(self.datum) == self.n_way\n",
    "        for d in self.datum:\n",
    "            assert d['label'] is not None\n",
    "            assert len(d['query_set']) == self.k_shot\n",
    "            assert len(d['query_set']) == len(d['support_set'])\n",
    "            for a, b in zip(d['query_set'], d['support_set']):\n",
    "                output.append({'label': d['label'], 'query_set': a, 'support_set': b})\n",
    "        return pd.DataFrame(output)\n",
    "\n",
    "    def __len__(self):\n",
    "        return len(datum)\n",
    "\n",
    "    def show(self, ctx=None, display=False, **kwargs):\n",
    "        df = self._convert_to_df()\n",
    "        if display:\n",
    "            print(f\"{self.idx} th {self.n_way} Way, {self.k_shot} Shot Episode\")\n",
    "            display_df(df)\n",
    "        return df\n",
    "\n",
    "\n"
   ]
  },
  {
   "cell_type": "raw",
   "metadata": {},
   "source": [
    "ep = Episode(0, 1,2, [{\"label\": 'E14', \"query_set\" : [\"a\",\"b\"], \"support_set\" : [\"a\",\"b\"]}])\n",
    "ep.show(display=True)"
   ]
  },
  {
   "cell_type": "markdown",
   "metadata": {},
   "source": [
    "###  Dataloader\n"
   ]
  },
  {
   "cell_type": "code",
   "execution_count": 4,
   "metadata": {},
   "outputs": [],
   "source": [
    "# generate an episode by sampling\n",
    "class EpisodeGen(Transform):\n",
    "    def __init__(self, data, n_way=64, k_shot=5):\n",
    "        self.df = data.set_index(\"ICD4\")\n",
    "        self.n_way = n_way\n",
    "        self.k_shot = k_shot\n",
    "        assert n_way <= self.df.index.nunique()\n",
    "\n",
    "    def _extract(self):\n",
    "        output = []\n",
    "        lbl_list = np.random.permutation(self.df.index.unique())\n",
    "        n = 0\n",
    "        for cls in lbl_list:\n",
    "            xs = np.random.permutation(self.df.loc[cls].details)\n",
    "            if len(xs) >= 2 * self.k_shot:\n",
    "                output.append({\n",
    "                    'label': cls,\n",
    "                    'query_set': xs[:self.k_shot],\n",
    "                    'support_set': xs[self.k_shot: 2 * self.k_shot]\n",
    "                })\n",
    "                n += 1\n",
    "                if n >= self.n_way:\n",
    "                    return output\n",
    "        raise Exception(\"not enough data to make an episode\")\n",
    "\n",
    "    def encodes(self, o):\n",
    "        return Episode(o, self.n_way, self.k_shot, self._extract())\n"
   ]
  },
  {
   "cell_type": "raw",
   "metadata": {},
   "source": [
    "ep_gen = EpisodeGen(X_test,2)\n",
    "ep = ep_gen(0)\n",
    "ep.show()"
   ]
  },
  {
   "cell_type": "code",
   "execution_count": 5,
   "metadata": {},
   "outputs": [],
   "source": [
    "# vecterize an episode\n",
    "class EpisodeVectorizer(Transform):\n",
    "    def __init__(self,\n",
    "                 tokenizer,\n",
    "                 numericalizer,\n",
    "                 categorize):\n",
    "        self.cat = categorize\n",
    "        self.x_proc = Pipeline([tokenizer, numericalizer])\n",
    "\n",
    "    # tuple of tensors ((n*k, l),(n*k, l),(n*k,))\n",
    "    def encodes(self, o):\n",
    "\n",
    "        df = o._convert_to_df()\n",
    "        cls = TfmdLists(df.label, self.cat)\n",
    "        query = TfmdLists(df.query_set, self.x_proc)\n",
    "        support = TfmdLists(df.support_set, self.x_proc)\n",
    "        return list(support),list(query), tensor(cls)\n"
   ]
  },
  {
   "cell_type": "raw",
   "metadata": {},
   "source": [
    "vocab = pickle.load(open(\"./lm_vocab.pickle\", \"rb\"))\n",
    "categorize_vocab =  pickle.load(open(\"./categorize_vocab.pickle\", \"rb\"))\n",
    "\n",
    "etk = EpisodeVectorizer(Tokenizer(SubwordTokenizer(sp_model='./tmp/spm.model')),\n",
    "                       Numericalize(vocab=vocab),\n",
    "                       Categorize(vocab = categorize_vocab))\n",
    "res = etk(ep)\n",
    "res"
   ]
  },
  {
   "cell_type": "code",
   "execution_count": 6,
   "metadata": {
    "scrolled": true
   },
   "outputs": [],
   "source": [
    "# pad query and support to be the same length, use chunk_pad in front as pad_input_chunk\n",
    "class ChunkPadder(ItemTransform):\n",
    "    # same logic as pad_input_chunk in fast_ai\n",
    "    def pad_chunk(self, vec_list, pad_idx=1, pad_first=True, seq_len=72):\n",
    "        max_len = max([len(s) for s in vec_list])\n",
    "        def _f(x):\n",
    "            l = max_len - x.shape[0]\n",
    "            pad_chunk = x.new_zeros((l // seq_len) * seq_len) + pad_idx\n",
    "            pad_res = x.new_zeros(l % seq_len) + pad_idx\n",
    "            x1 = torch.cat([pad_chunk, x, pad_res]) if pad_first else torch.cat([x, pad_res, pad_chunk])\n",
    "            return retain_type(x1, x)\n",
    "\n",
    "        return torch.stack([_f(s) for s in vec_list])\n",
    "\n",
    "    # tuple of tensors ((n*k, l),(n*k, l),(n*k,))\n",
    "    def encodes(self, o):\n",
    "        a, b, c = o\n",
    "        return self.pad_chunk(a), self.pad_chunk(b), c\n"
   ]
  },
  {
   "cell_type": "raw",
   "metadata": {},
   "source": [
    "padder = ChunkPadder()\n",
    "res = padder(res)\n",
    "res[0].shape, res[1].shape, res[2].shape"
   ]
  },
  {
   "cell_type": "code",
   "execution_count": 7,
   "metadata": {},
   "outputs": [],
   "source": [
    "def get_pipe(train_data, n_way, k_shot, n_episode, validation=0.1):\n",
    "    vocab = pickle.load(open(\"./lm_vocab.pickle\", \"rb\"))\n",
    "    categorize_vocab =  pickle.load(open(\"./categorize_vocab.pickle\", \"rb\"))\n",
    "\n",
    "    etk = EpisodeVectorizer(Tokenizer(SubwordTokenizer(sp_model='./tmp/spm.model')),\n",
    "                           Numericalize(vocab=vocab),\n",
    "                           Categorize(vocab = categorize_vocab))\n",
    "    tfms = [EpisodeGen(train_data,n_way,k_shot), etk,ChunkPadder()]\n",
    "    items = range(0, n_episode)\n",
    "    splits = RandomSplitter(valid_pct=0.1, seed=42)(items)\n",
    "    \n",
    "    return TfmdLists(items, tfms, splits=splits)\n"
   ]
  },
  {
   "cell_type": "code",
   "execution_count": 8,
   "metadata": {},
   "outputs": [],
   "source": [
    "class ReorderTarget(ItemTransform):\n",
    "    \"\"\" 重新对target 排序，从0 到 N-way, 每个k_shot \"\"\"\n",
    "    order = 10\n",
    "\n",
    "    def __init__(self, n_way, k_shot):\n",
    "        self.n_way = n_way\n",
    "        self.k_shot = k_shot\n",
    "\n",
    "    def encodes(self, o):\n",
    "        x1, x2, target = o\n",
    "        target_inds = torch.arange(0, self.n_way).view(self.n_way, 1, 1).expand(self.n_way, self.k_shot, 1)\\\n",
    "        .long().reshape(self.n_way* self.k_shot).contiguous().to(x1.device)\n",
    "        return [x1.squeeze(), x2.squeeze(), target_inds]\n"
   ]
  },
  {
   "cell_type": "code",
   "execution_count": 9,
   "metadata": {
    "scrolled": true
   },
   "outputs": [],
   "source": [
    "def get_dl(train_data,n_way, k_shot, n_episode, validation=0.1):\n",
    "    l = get_pipe(train_data, n_way, k_shot, n_episode, validation)\n",
    "    dl = l.dataloaders(bs=1,after_batch=[ReorderTarget(n_way, k_shot)])\n",
    "    return dl"
   ]
  },
  {
   "cell_type": "raw",
   "metadata": {},
   "source": [
    "dl = get_dl(X_train,64,10,1000)\n",
    "a,b,c = dl.one_batch()\n",
    "a.shape,b.shape,c.shape"
   ]
  },
  {
   "cell_type": "markdown",
   "metadata": {},
   "source": [
    "### PrototypicalNetwork model"
   ]
  },
  {
   "cell_type": "markdown",
   "metadata": {},
   "source": [
    "#### Encoder from trained classifier model"
   ]
  },
  {
   "cell_type": "code",
   "execution_count": 10,
   "metadata": {
    "code_folding": []
   },
   "outputs": [],
   "source": [
    "# remove last layer of classifer to use as encoder\n",
    "def get_rnn_encoder(data, encoder_fn='classifier'):\n",
    "    text_learner = load_rnn_learner(data,encoder_fn)\n",
    "    remain_layers = text_learner.model[1].layers[:-1]\n",
    "    text_learner.model[1].layers = nn.Sequential(*remain_layers)\n",
    "    return text_learner.model\n"
   ]
  },
  {
   "cell_type": "raw",
   "metadata": {},
   "source": [
    "encoder = get_rnn_encoder(X_test)\n",
    "encoder"
   ]
  },
  {
   "cell_type": "markdown",
   "metadata": {},
   "source": [
    "#### Prototypical network"
   ]
  },
  {
   "cell_type": "code",
   "execution_count": 43,
   "metadata": {},
   "outputs": [
    {
     "data": {
      "text/plain": [
       "BatchNorm1d(300, eps=1e-05, momentum=0.1, affine=True, track_running_stats=True)"
      ]
     },
     "execution_count": 43,
     "metadata": {},
     "output_type": "execute_result"
    }
   ],
   "source": [
    "BatchNorm(300, ndim=1)"
   ]
  },
  {
   "cell_type": "code",
   "execution_count": 44,
   "metadata": {},
   "outputs": [],
   "source": [
    "class ProtoNet(Module):\n",
    "    def __init__(self,  n_way, k_shot, encoder,norm=True):\n",
    "        \"\"\"\n",
    "               Args:\n",
    "                   encoder :  encoding sample as vectors\n",
    "                   n_way (int): number of classes in a classification task\n",
    "                   n_support (int): number of labeled examples per class in the support set\n",
    "                   n_query (int): number of labeled examples per class in the query set\n",
    "               \"\"\"\n",
    "        store_attr('norm,n_way,k_shot,encoder')\n",
    "        self.bn= BatchNorm(300, ndim=1)\n",
    "\n",
    "    def reset(self):\n",
    "        for c in self.children(): getattr(c, 'reset', noop)()\n",
    "\n",
    "    def forward(self, x1, x2):\n",
    "        # x1, x2 shape (n_way * k_shot, length)\n",
    "        z_support,raw_out_1,out_1 = self.encoder(x1)\n",
    "        z_query,raw_out_2,out_2 = self.encoder(x2)\n",
    "        \n",
    "        z_support = self.bn(z_support)\n",
    "        z_query = self.bn(z_query)\n",
    "        z_support_mean = z_support.view(self.n_way, self.k_shot, -1).mean(1)\n",
    "\n",
    "        # compute distances\n",
    "        dists = self.euclidean_dist(z_query, z_support_mean)\n",
    "\n",
    "        return -dists,raw_out_1,out_1,raw_out_2,out_2\n",
    "\n",
    "    def euclidean_dist(self, x, y):\n",
    "        \"\"\"\n",
    "        Computes euclidean distance btw x and y\n",
    "        Args:\n",
    "            x (torch.Tensor): shape (n, d). n usually n_way*n_query\n",
    "            y (torch.Tensor): shape (m, d). m usually n_way\n",
    "        Returns:\n",
    "            torch.Tensor: shape(n, m). For each query, the distances to each centroid\n",
    "        \"\"\"\n",
    "#         if self.norm:\n",
    "#             x = F.normalize(x, p=2, dim=1)\n",
    "#             y = F.normalize(y, p=2, dim=1)\n",
    "\n",
    "        n = x.size(0)\n",
    "        m = y.size(0)\n",
    "        d = x.size(1)\n",
    "        assert d == y.size(1)\n",
    "\n",
    "        a = x.unsqueeze(1).expand(n, m, d)\n",
    "        b = y.unsqueeze(0).expand(n, m, d)\n",
    "        return torch.pow(a - b, 2).sum(2)\n",
    "\n"
   ]
  },
  {
   "cell_type": "raw",
   "metadata": {},
   "source": [
    "\n",
    "l = get_pipe(64,10,1000)\n",
    "\n",
    "dl = l.dataloaders(bs=1)\n",
    "\n",
    "a,b,c = dl.one_batch()\n",
    "\n",
    "protonet = ProtoNet(64,10, encoder).to(dl.device)\n",
    "\n",
    "dist, _,_,_,_ = protonet(a.squeeze(),b.squeeze())\n",
    "dist.shape"
   ]
  },
  {
   "cell_type": "markdown",
   "metadata": {},
   "source": [
    "### ProtoNet Learner"
   ]
  },
  {
   "cell_type": "markdown",
   "metadata": {},
   "source": [
    "#### Regularization Callback + Learner"
   ]
  },
  {
   "cell_type": "code",
   "execution_count": 45,
   "metadata": {},
   "outputs": [],
   "source": [
    "# used for regularizing RNNs\n",
    "class DualRNNRegularizer(Callback):\n",
    "    \"`Callback` that adds AR and TAR regularization in RNN training\"\n",
    "\n",
    "    def __init__(self, alpha=0., beta=0.):\n",
    "        self.alpha, self.beta = alpha, beta\n",
    "\n",
    "    def after_pred(self):\n",
    "#         import pdb\n",
    "#         pdb.set_trace()\n",
    "\n",
    "        self.raw_out1 = self.pred[1][-1] if is_listy(self.pred[1]) else self.pred[1]\n",
    "        self.out1 = self.pred[2][-1] if is_listy(self.pred[2]) else self.pred[2]\n",
    "        self.raw_out2 = self.pred[3][-1] if is_listy(self.pred[3]) else self.pred[3]\n",
    "        self.out2 = self.pred[4][-1] if is_listy(self.pred[4]) else self.pred[4]\n",
    "        self.learn.pred = self.pred[0]\n",
    "\n",
    "    @staticmethod\n",
    "    def TAR(h):\n",
    "        return (h[:, 1:] - h[:, :-1]).float().pow(2).mean()\n",
    "\n",
    "    def after_loss(self):\n",
    "#         import pdb\n",
    "#         pdb.set_trace()\n",
    "\n",
    "        if not self.training: return\n",
    "        if self.alpha != 0.:  self.learn.loss += self.alpha * (\n",
    "                self.out1.float().pow(2).mean() + self.out2.float().pow(2).mean())\n",
    "        if self.beta != 0.:\n",
    "            h1 = self.raw_out1\n",
    "            h2 = self.raw_out2\n",
    "            if len(h1) > 1 and len(h2)>1: self.learn.loss += self.beta * (self.TAR(h1) + self.TAR(h2))"
   ]
  },
  {
   "cell_type": "code",
   "execution_count": 46,
   "metadata": {},
   "outputs": [],
   "source": [
    "@delegates(Learner.__init__)\n",
    "class ProtonetLearner(Learner):\n",
    "    def __init__(self, dls, model, alpha=0, beta=0, moms=(0.8, 0.7, 0.8),\n",
    "                 loss_func=CrossEntropyLossFlat(),\n",
    "                 metrics=[accuracy],\n",
    "                 splitter=lambda m: awd_lstm_clas_split(m.encoder), # reuse AWD_RNN's grouping\n",
    "                 **kwargs):\n",
    "        super().__init__(dls, model, moms=moms,metrics=metrics, loss_func=loss_func, splitter=splitter, **kwargs)\n",
    "        self.add_cbs([ModelResetter(), DualRNNRegularizer(alpha=alpha, beta=beta)])\n",
    "\n",
    "    def save_encoder(self, file):\n",
    "        \"Save the encoder to `file` in the model directory\"\n",
    "        if rank_distrib(): return  # don't save if child proc\n",
    "        encoder = get_model(self.model).encoder\n",
    "        if hasattr(encoder, 'module'): encoder = encoder.module\n",
    "        torch.save(encoder.state_dict(), join_path_file(file, self.path / self.model_dir, ext='.pth'))\n",
    "\n",
    "    def load_encoder(self, file, device=None):\n",
    "        \"Load the encoder `file` from the model directory, optionally ensuring it's on `device`\"\n",
    "        encoder = get_model(self.model).encoder\n",
    "        if device is None: device = self.dls.device\n",
    "        if hasattr(encoder, 'module'): encoder = encoder.module\n",
    "        distrib_barrier()\n",
    "        wgts = torch.load(join_path_file(file, self.path / self.model_dir, ext='.pth'), map_location=device)\n",
    "        encoder.load_state_dict(clean_raw_keys(wgts))\n",
    "        self.model.to(device)\n",
    "        self.freeze()\n",
    "        return self"
   ]
  },
  {
   "cell_type": "code",
   "execution_count": 47,
   "metadata": {},
   "outputs": [],
   "source": [
    "def get_protonet_learner(data, n_way=64, k_shot=5, episode=200, encoder_fn='classifier', norm_distance=True):\n",
    "    dls = get_dl(data,n_way,k_shot,episode)\n",
    "    encoder = get_rnn_encoder(data[:1000],encoder_fn=encoder_fn)\n",
    "    protonet = ProtoNet(n_way,k_shot, encoder, norm=norm_distance).to(dls.device)\n",
    "    learner = ProtonetLearner(dls, protonet)\n",
    "    learner.freeze()\n",
    "    return learner"
   ]
  },
  {
   "cell_type": "markdown",
   "metadata": {},
   "source": [
    "#### Training"
   ]
  },
  {
   "cell_type": "code",
   "execution_count": 15,
   "metadata": {},
   "outputs": [
    {
     "data": {
      "text/plain": [
       "((76480, 2), (8498, 2))"
      ]
     },
     "execution_count": 15,
     "metadata": {},
     "output_type": "execute_result"
    }
   ],
   "source": [
    "from fastai.basics import *\n",
    "from fastai.text.all import *\n",
    "from sklearn.model_selection import train_test_split\n",
    "\n",
    "\n",
    "drgs = pd.read_parquet(\"./data/drgs.parquet\")\n",
    "\n",
    "X_train, X_test = train_test_split(drgs[['details','ICD4']],test_size=0.1,stratify=drgs[['ICD4']])\n",
    "X_train.shape,X_test.shape\n"
   ]
  },
  {
   "cell_type": "markdown",
   "metadata": {},
   "source": [
    "proto_learner.fit_one_cycle(5,0.01)\n",
    "\n",
    "proto_learner.save_encoder(\"protonet\")"
   ]
  },
  {
   "cell_type": "code",
   "execution_count": 52,
   "metadata": {
    "scrolled": true
   },
   "outputs": [
    {
     "data": {
      "text/html": [],
      "text/plain": [
       "<IPython.core.display.HTML object>"
      ]
     },
     "metadata": {},
     "output_type": "display_data"
    }
   ],
   "source": [
    "proto_learner = get_protonet_learner(X_train,episode=50, n_way=64,norm_distance=False)\n",
    "# proto_learner.load_encoder(\"protonet\")"
   ]
  },
  {
   "cell_type": "code",
   "execution_count": 58,
   "metadata": {},
   "outputs": [
    {
     "data": {
      "text/html": [],
      "text/plain": [
       "<IPython.core.display.HTML object>"
      ]
     },
     "metadata": {},
     "output_type": "display_data"
    },
    {
     "data": {
      "text/plain": [
       "SuggestedLRs(lr_min=5.248074739938602e-06, lr_steep=3.981071586167673e-06)"
      ]
     },
     "execution_count": 58,
     "metadata": {},
     "output_type": "execute_result"
    },
    {
     "data": {
      "image/png": "[encoded data removed]",
      "text/plain": [
       "<Figure size 432x288 with 1 Axes>"
      ]
     },
     "metadata": {
      "needs_background": "light"
     },
     "output_type": "display_data"
    }
   ],
   "source": [
    "proto_learner.lr_find()"
   ]
  },
  {
   "cell_type": "code",
   "execution_count": 56,
   "metadata": {},
   "outputs": [
    {
     "data": {
      "text/html": [
       "<table border=\"1\" class=\"dataframe\">\n",
       "  <thead>\n",
       "    <tr style=\"text-align: left;\">\n",
       "      <th>epoch</th>\n",
       "      <th>train_loss</th>\n",
       "      <th>valid_loss</th>\n",
       "      <th>accuracy</th>\n",
       "      <th>time</th>\n",
       "    </tr>\n",
       "  </thead>\n",
       "  <tbody>\n",
       "    <tr>\n",
       "      <td>0</td>\n",
       "      <td>14.427350</td>\n",
       "      <td>15.601711</td>\n",
       "      <td>0.641250</td>\n",
       "      <td>01:06</td>\n",
       "    </tr>\n",
       "    <tr>\n",
       "      <td>1</td>\n",
       "      <td>14.525838</td>\n",
       "      <td>13.791516</td>\n",
       "      <td>0.630625</td>\n",
       "      <td>01:06</td>\n",
       "    </tr>\n",
       "    <tr>\n",
       "      <td>2</td>\n",
       "      <td>14.729288</td>\n",
       "      <td>13.331526</td>\n",
       "      <td>0.617500</td>\n",
       "      <td>01:06</td>\n",
       "    </tr>\n",
       "    <tr>\n",
       "      <td>3</td>\n",
       "      <td>14.399564</td>\n",
       "      <td>18.325760</td>\n",
       "      <td>0.636250</td>\n",
       "      <td>01:06</td>\n",
       "    </tr>\n",
       "    <tr>\n",
       "      <td>4</td>\n",
       "      <td>14.697748</td>\n",
       "      <td>11.815753</td>\n",
       "      <td>0.588750</td>\n",
       "      <td>01:06</td>\n",
       "    </tr>\n",
       "    <tr>\n",
       "      <td>5</td>\n",
       "      <td>13.637397</td>\n",
       "      <td>18.865473</td>\n",
       "      <td>0.609375</td>\n",
       "      <td>01:06</td>\n",
       "    </tr>\n",
       "    <tr>\n",
       "      <td>6</td>\n",
       "      <td>13.546111</td>\n",
       "      <td>11.084041</td>\n",
       "      <td>0.634375</td>\n",
       "      <td>01:06</td>\n",
       "    </tr>\n",
       "    <tr>\n",
       "      <td>7</td>\n",
       "      <td>13.709325</td>\n",
       "      <td>14.132014</td>\n",
       "      <td>0.652500</td>\n",
       "      <td>01:05</td>\n",
       "    </tr>\n",
       "    <tr>\n",
       "      <td>8</td>\n",
       "      <td>13.427780</td>\n",
       "      <td>8.513739</td>\n",
       "      <td>0.640000</td>\n",
       "      <td>01:06</td>\n",
       "    </tr>\n",
       "    <tr>\n",
       "      <td>9</td>\n",
       "      <td>13.687536</td>\n",
       "      <td>15.876904</td>\n",
       "      <td>0.614375</td>\n",
       "      <td>01:06</td>\n",
       "    </tr>\n",
       "  </tbody>\n",
       "</table>"
      ],
      "text/plain": [
       "<IPython.core.display.HTML object>"
      ]
     },
     "metadata": {},
     "output_type": "display_data"
    }
   ],
   "source": [
    "proto_learner.fit_one_cycle(10, 0.003)\n"
   ]
  },
  {
   "cell_type": "code",
   "execution_count": 59,
   "metadata": {},
   "outputs": [],
   "source": [
    "proto_learner.save_encoder('protonet')"
   ]
  },
  {
   "cell_type": "code",
   "execution_count": 60,
   "metadata": {},
   "outputs": [
    {
     "data": {
      "text/html": [
       "<table border=\"1\" class=\"dataframe\">\n",
       "  <thead>\n",
       "    <tr style=\"text-align: left;\">\n",
       "      <th>epoch</th>\n",
       "      <th>train_loss</th>\n",
       "      <th>valid_loss</th>\n",
       "      <th>accuracy</th>\n",
       "      <th>time</th>\n",
       "    </tr>\n",
       "  </thead>\n",
       "  <tbody>\n",
       "    <tr>\n",
       "      <td>0</td>\n",
       "      <td>15.372581</td>\n",
       "      <td>10.455886</td>\n",
       "      <td>0.619375</td>\n",
       "      <td>01:20</td>\n",
       "    </tr>\n",
       "  </tbody>\n",
       "</table>"
      ],
      "text/plain": [
       "<IPython.core.display.HTML object>"
      ]
     },
     "metadata": {},
     "output_type": "display_data"
    }
   ],
   "source": [
    "proto_learner.freeze_to(-2)\n",
    "proto_learner.fit_one_cycle(1, slice(1e-2/(2.6**4),1e-2))\n"
   ]
  },
  {
   "cell_type": "code",
   "execution_count": null,
   "metadata": {},
   "outputs": [
    {
     "data": {
      "text/html": [
       "\n",
       "    <div>\n",
       "        <style>\n",
       "            /* Turns off some styling */\n",
       "            progress {\n",
       "                /* gets rid of default border in Firefox and Opera. */\n",
       "                border: none;\n",
       "                /* Needs to be in here for Safari polyfill so background images work as expected. */\n",
       "                background-size: auto;\n",
       "            }\n",
       "            .progress-bar-interrupted, .progress-bar-interrupted::-webkit-progress-bar {\n",
       "                background: #F44336;\n",
       "            }\n",
       "        </style>\n",
       "      <progress value='1' class='' max='10' style='width:300px; height:20px; vertical-align: middle;'></progress>\n",
       "      10.00% [1/10 01:19<11:58]\n",
       "    </div>\n",
       "    \n",
       "<table border=\"1\" class=\"dataframe\">\n",
       "  <thead>\n",
       "    <tr style=\"text-align: left;\">\n",
       "      <th>epoch</th>\n",
       "      <th>train_loss</th>\n",
       "      <th>valid_loss</th>\n",
       "      <th>accuracy</th>\n",
       "      <th>time</th>\n",
       "    </tr>\n",
       "  </thead>\n",
       "  <tbody>\n",
       "    <tr>\n",
       "      <td>0</td>\n",
       "      <td>14.799774</td>\n",
       "      <td>14.987992</td>\n",
       "      <td>0.615000</td>\n",
       "      <td>01:19</td>\n",
       "    </tr>\n",
       "  </tbody>\n",
       "</table><p>\n",
       "\n",
       "    <div>\n",
       "        <style>\n",
       "            /* Turns off some styling */\n",
       "            progress {\n",
       "                /* gets rid of default border in Firefox and Opera. */\n",
       "                border: none;\n",
       "                /* Needs to be in here for Safari polyfill so background images work as expected. */\n",
       "                background-size: auto;\n",
       "            }\n",
       "            .progress-bar-interrupted, .progress-bar-interrupted::-webkit-progress-bar {\n",
       "                background: #F44336;\n",
       "            }\n",
       "        </style>\n",
       "      <progress value='26' class='' max='45' style='width:300px; height:20px; vertical-align: middle;'></progress>\n",
       "      57.78% [26/45 00:42<00:31 15.5052]\n",
       "    </div>\n",
       "    "
      ],
      "text/plain": [
       "<IPython.core.display.HTML object>"
      ]
     },
     "metadata": {},
     "output_type": "display_data"
    }
   ],
   "source": [
    "proto_learner.fit_one_cycle(10, slice(1e-2/(2.6**4),1e-2))\n"
   ]
  },
  {
   "cell_type": "code",
   "execution_count": 18,
   "metadata": {},
   "outputs": [
    {
     "data": {
      "text/plain": [
       "<__main__.ProtonetLearner at 0x7f5359ec1320>"
      ]
     },
     "execution_count": 18,
     "metadata": {},
     "output_type": "execute_result"
    }
   ],
   "source": [
    "proto_learner.load_encoder(\"protonet\")"
   ]
  },
  {
   "cell_type": "code",
   "execution_count": null,
   "metadata": {},
   "outputs": [
    {
     "data": {
      "text/html": [
       "\n",
       "    <div>\n",
       "        <style>\n",
       "            /* Turns off some styling */\n",
       "            progress {\n",
       "                /* gets rid of default border in Firefox and Opera. */\n",
       "                border: none;\n",
       "                /* Needs to be in here for Safari polyfill so background images work as expected. */\n",
       "                background-size: auto;\n",
       "            }\n",
       "            .progress-bar-interrupted, .progress-bar-interrupted::-webkit-progress-bar {\n",
       "                background: #F44336;\n",
       "            }\n",
       "        </style>\n",
       "      <progress value='6' class='' max='10' style='width:300px; height:20px; vertical-align: middle;'></progress>\n",
       "      60.00% [6/10 04:55<03:17]\n",
       "    </div>\n",
       "    \n",
       "<table border=\"1\" class=\"dataframe\">\n",
       "  <thead>\n",
       "    <tr style=\"text-align: left;\">\n",
       "      <th>epoch</th>\n",
       "      <th>train_loss</th>\n",
       "      <th>valid_loss</th>\n",
       "      <th>accuracy</th>\n",
       "      <th>time</th>\n",
       "    </tr>\n",
       "  </thead>\n",
       "  <tbody>\n",
       "    <tr>\n",
       "      <td>0</td>\n",
       "      <td>1.585778</td>\n",
       "      <td>1.569434</td>\n",
       "      <td>0.727500</td>\n",
       "      <td>00:48</td>\n",
       "    </tr>\n",
       "    <tr>\n",
       "      <td>1</td>\n",
       "      <td>1.580312</td>\n",
       "      <td>1.545497</td>\n",
       "      <td>0.750000</td>\n",
       "      <td>00:48</td>\n",
       "    </tr>\n",
       "    <tr>\n",
       "      <td>2</td>\n",
       "      <td>1.602022</td>\n",
       "      <td>1.453379</td>\n",
       "      <td>0.802500</td>\n",
       "      <td>00:49</td>\n",
       "    </tr>\n",
       "    <tr>\n",
       "      <td>3</td>\n",
       "      <td>1.599353</td>\n",
       "      <td>1.498283</td>\n",
       "      <td>0.710000</td>\n",
       "      <td>00:50</td>\n",
       "    </tr>\n",
       "    <tr>\n",
       "      <td>4</td>\n",
       "      <td>1.585953</td>\n",
       "      <td>1.544689</td>\n",
       "      <td>0.747500</td>\n",
       "      <td>00:48</td>\n",
       "    </tr>\n",
       "    <tr>\n",
       "      <td>5</td>\n",
       "      <td>1.589514</td>\n",
       "      <td>1.533703</td>\n",
       "      <td>0.725000</td>\n",
       "      <td>00:49</td>\n",
       "    </tr>\n",
       "  </tbody>\n",
       "</table><p>\n",
       "\n",
       "    <div>\n",
       "        <style>\n",
       "            /* Turns off some styling */\n",
       "            progress {\n",
       "                /* gets rid of default border in Firefox and Opera. */\n",
       "                border: none;\n",
       "                /* Needs to be in here for Safari polyfill so background images work as expected. */\n",
       "                background-size: auto;\n",
       "            }\n",
       "            .progress-bar-interrupted, .progress-bar-interrupted::-webkit-progress-bar {\n",
       "                background: #F44336;\n",
       "            }\n",
       "        </style>\n",
       "      <progress value='35' class='' max='45' style='width:300px; height:20px; vertical-align: middle;'></progress>\n",
       "      77.78% [35/45 00:35<00:10 1.5825]\n",
       "    </div>\n",
       "    "
      ],
      "text/plain": [
       "<IPython.core.display.HTML object>"
      ]
     },
     "metadata": {},
     "output_type": "display_data"
    }
   ],
   "source": [
    "proto_learner.freeze_to(-3)\n",
    "proto_learner.fit_one_cycle(10, slice(5e-3/(2.6**4),5e-3))"
   ]
  },
  {
   "cell_type": "code",
   "execution_count": 16,
   "metadata": {},
   "outputs": [
    {
     "data": {
      "text/html": [],
      "text/plain": [
       "<IPython.core.display.HTML object>"
      ]
     },
     "metadata": {},
     "output_type": "display_data"
    },
    {
     "name": "stderr",
     "output_type": "stream",
     "text": [
      "/media/data1/ubuntu/repository/zhaohang/RiskAnalytics/src/main/python/venv/lib/python3.6/site-packages/numpy/core/_asarray.py:83: VisibleDeprecationWarning: Creating an ndarray from ragged nested sequences (which is a list-or-tuple of lists-or-tuples-or ndarrays with different lengths or shapes) is deprecated. If you meant to do this, you must specify 'dtype=object' when creating the ndarray\n",
      "  return array(a, dtype, copy=False, order=order)\n"
     ]
    },
    {
     "data": {
      "text/html": [
       "<table border=\"1\" class=\"dataframe\">\n",
       "  <thead>\n",
       "    <tr style=\"text-align: left;\">\n",
       "      <th>epoch</th>\n",
       "      <th>train_loss</th>\n",
       "      <th>valid_loss</th>\n",
       "      <th>accuracy</th>\n",
       "      <th>time</th>\n",
       "    </tr>\n",
       "  </thead>\n",
       "  <tbody>\n",
       "    <tr>\n",
       "      <td>0</td>\n",
       "      <td>1.217861</td>\n",
       "      <td>1.139583</td>\n",
       "      <td>0.812000</td>\n",
       "      <td>00:45</td>\n",
       "    </tr>\n",
       "    <tr>\n",
       "      <td>1</td>\n",
       "      <td>1.235609</td>\n",
       "      <td>1.139354</td>\n",
       "      <td>0.840000</td>\n",
       "      <td>00:45</td>\n",
       "    </tr>\n",
       "    <tr>\n",
       "      <td>2</td>\n",
       "      <td>1.236290</td>\n",
       "      <td>1.118956</td>\n",
       "      <td>0.820000</td>\n",
       "      <td>00:46</td>\n",
       "    </tr>\n",
       "    <tr>\n",
       "      <td>3</td>\n",
       "      <td>1.239017</td>\n",
       "      <td>1.227138</td>\n",
       "      <td>0.792000</td>\n",
       "      <td>00:46</td>\n",
       "    </tr>\n",
       "    <tr>\n",
       "      <td>4</td>\n",
       "      <td>1.252598</td>\n",
       "      <td>1.120858</td>\n",
       "      <td>0.828000</td>\n",
       "      <td>00:46</td>\n",
       "    </tr>\n",
       "    <tr>\n",
       "      <td>5</td>\n",
       "      <td>1.235767</td>\n",
       "      <td>1.169444</td>\n",
       "      <td>0.852000</td>\n",
       "      <td>00:45</td>\n",
       "    </tr>\n",
       "    <tr>\n",
       "      <td>6</td>\n",
       "      <td>1.237995</td>\n",
       "      <td>1.125464</td>\n",
       "      <td>0.864000</td>\n",
       "      <td>00:45</td>\n",
       "    </tr>\n",
       "    <tr>\n",
       "      <td>7</td>\n",
       "      <td>1.223287</td>\n",
       "      <td>1.166305</td>\n",
       "      <td>0.828000</td>\n",
       "      <td>00:46</td>\n",
       "    </tr>\n",
       "    <tr>\n",
       "      <td>8</td>\n",
       "      <td>1.236006</td>\n",
       "      <td>1.125309</td>\n",
       "      <td>0.824000</td>\n",
       "      <td>00:45</td>\n",
       "    </tr>\n",
       "    <tr>\n",
       "      <td>9</td>\n",
       "      <td>1.251802</td>\n",
       "      <td>1.181110</td>\n",
       "      <td>0.788000</td>\n",
       "      <td>00:46</td>\n",
       "    </tr>\n",
       "  </tbody>\n",
       "</table>"
      ],
      "text/plain": [
       "<IPython.core.display.HTML object>"
      ]
     },
     "metadata": {},
     "output_type": "display_data"
    }
   ],
   "source": [
    "proto_learner = get_protonet_learner(X_train,episode=50, n_way=10,norm_distance=True)\n",
    "proto_learner.load_encoder(\"protonet\")\n",
    "proto_learner.unfreeze()\n",
    "proto_learner.fit_one_cycle(10, slice(1e-3/(2.6**4),1e-3))"
   ]
  },
  {
   "cell_type": "code",
   "execution_count": 17,
   "metadata": {},
   "outputs": [
    {
     "data": {
      "text/html": [
       "<table border=\"1\" class=\"dataframe\">\n",
       "  <thead>\n",
       "    <tr style=\"text-align: left;\">\n",
       "      <th>epoch</th>\n",
       "      <th>train_loss</th>\n",
       "      <th>valid_loss</th>\n",
       "      <th>accuracy</th>\n",
       "      <th>time</th>\n",
       "    </tr>\n",
       "  </thead>\n",
       "  <tbody>\n",
       "    <tr>\n",
       "      <td>0</td>\n",
       "      <td>1.239025</td>\n",
       "      <td>1.170236</td>\n",
       "      <td>0.844000</td>\n",
       "      <td>00:45</td>\n",
       "    </tr>\n",
       "    <tr>\n",
       "      <td>1</td>\n",
       "      <td>1.220237</td>\n",
       "      <td>1.126152</td>\n",
       "      <td>0.840000</td>\n",
       "      <td>00:46</td>\n",
       "    </tr>\n",
       "    <tr>\n",
       "      <td>2</td>\n",
       "      <td>1.241367</td>\n",
       "      <td>1.115978</td>\n",
       "      <td>0.824000</td>\n",
       "      <td>00:47</td>\n",
       "    </tr>\n",
       "    <tr>\n",
       "      <td>3</td>\n",
       "      <td>1.232871</td>\n",
       "      <td>1.156473</td>\n",
       "      <td>0.836000</td>\n",
       "      <td>00:46</td>\n",
       "    </tr>\n",
       "    <tr>\n",
       "      <td>4</td>\n",
       "      <td>1.248081</td>\n",
       "      <td>1.219365</td>\n",
       "      <td>0.776000</td>\n",
       "      <td>00:46</td>\n",
       "    </tr>\n",
       "    <tr>\n",
       "      <td>5</td>\n",
       "      <td>1.252839</td>\n",
       "      <td>1.121109</td>\n",
       "      <td>0.848000</td>\n",
       "      <td>00:46</td>\n",
       "    </tr>\n",
       "    <tr>\n",
       "      <td>6</td>\n",
       "      <td>1.254053</td>\n",
       "      <td>1.198496</td>\n",
       "      <td>0.808000</td>\n",
       "      <td>00:46</td>\n",
       "    </tr>\n",
       "    <tr>\n",
       "      <td>7</td>\n",
       "      <td>1.234936</td>\n",
       "      <td>1.137378</td>\n",
       "      <td>0.808000</td>\n",
       "      <td>00:45</td>\n",
       "    </tr>\n",
       "    <tr>\n",
       "      <td>8</td>\n",
       "      <td>1.236497</td>\n",
       "      <td>1.235000</td>\n",
       "      <td>0.768000</td>\n",
       "      <td>00:46</td>\n",
       "    </tr>\n",
       "    <tr>\n",
       "      <td>9</td>\n",
       "      <td>1.237091</td>\n",
       "      <td>1.200744</td>\n",
       "      <td>0.816000</td>\n",
       "      <td>00:46</td>\n",
       "    </tr>\n",
       "  </tbody>\n",
       "</table>"
      ],
      "text/plain": [
       "<IPython.core.display.HTML object>"
      ]
     },
     "metadata": {},
     "output_type": "display_data"
    }
   ],
   "source": [
    "proto_learner.fit_one_cycle(10, slice(1e-3/(2.6**4),1e-3))"
   ]
  },
  {
   "cell_type": "code",
   "execution_count": 18,
   "metadata": {},
   "outputs": [],
   "source": [
    "proto_learner.save_encoder(\"protonet\")"
   ]
  },
  {
   "cell_type": "markdown",
   "metadata": {},
   "source": [
    "#### inference"
   ]
  },
  {
   "cell_type": "code",
   "execution_count": 21,
   "metadata": {},
   "outputs": [
    {
     "data": {
      "text/html": [],
      "text/plain": [
       "<IPython.core.display.HTML object>"
      ]
     },
     "metadata": {},
     "output_type": "display_data"
    },
    {
     "name": "stderr",
     "output_type": "stream",
     "text": [
      "/media/data1/ubuntu/repository/zhaohang/RiskAnalytics/src/main/python/venv/lib/python3.6/site-packages/numpy/core/_asarray.py:83: VisibleDeprecationWarning: Creating an ndarray from ragged nested sequences (which is a list-or-tuple of lists-or-tuples-or ndarrays with different lengths or shapes) is deprecated. If you meant to do this, you must specify 'dtype=object' when creating the ndarray\n",
      "  return array(a, dtype, copy=False, order=order)\n"
     ]
    }
   ],
   "source": [
    "proto_learner = get_protonet_learner(X_test,episode=10, n_way=64,norm_distance=True)\n"
   ]
  },
  {
   "cell_type": "code",
   "execution_count": 23,
   "metadata": {},
   "outputs": [
    {
     "data": {
      "text/html": [],
      "text/plain": [
       "<IPython.core.display.HTML object>"
      ]
     },
     "metadata": {},
     "output_type": "display_data"
    }
   ],
   "source": [
    "preds = proto_learner.get_preds(ds_idx=0,reorder=False)\n"
   ]
  },
  {
   "cell_type": "code",
   "execution_count": 25,
   "metadata": {},
   "outputs": [
    {
     "data": {
      "text/plain": [
       "(torch.Size([2880, 64]), torch.Size([2880]))"
      ]
     },
     "execution_count": 25,
     "metadata": {},
     "output_type": "execute_result"
    }
   ],
   "source": [
    "preds[0].shape,preds[1].shape"
   ]
  },
  {
   "cell_type": "code",
   "execution_count": 24,
   "metadata": {},
   "outputs": [
    {
     "data": {
      "text/plain": [
       "tensor(0.5396)"
      ]
     },
     "execution_count": 24,
     "metadata": {},
     "output_type": "execute_result"
    }
   ],
   "source": [
    "torch.eq(torch.argmax(preds[0],dim=1), preds[1]).float().mean()"
   ]
  },
  {
   "cell_type": "code",
   "execution_count": 26,
   "metadata": {},
   "outputs": [
    {
     "data": {
      "text/html": [],
      "text/plain": [
       "<IPython.core.display.HTML object>"
      ]
     },
     "metadata": {},
     "output_type": "display_data"
    }
   ],
   "source": [
    "proto_learner.load_encoder(\"protonet\")\n",
    "preds = proto_learner.get_preds(ds_idx=0,reorder=False)\n"
   ]
  },
  {
   "cell_type": "code",
   "execution_count": 27,
   "metadata": {},
   "outputs": [
    {
     "data": {
      "text/plain": [
       "tensor(0.5090)"
      ]
     },
     "execution_count": 27,
     "metadata": {},
     "output_type": "execute_result"
    }
   ],
   "source": [
    "torch.eq(torch.argmax(preds[0],dim=1), preds[1]).float().mean()"
   ]
  },
  {
   "cell_type": "code",
   "execution_count": null,
   "metadata": {},
   "outputs": [],
   "source": [
    "pred_icd = [y_tfms[1].vocab[i] for i in (torch.argmax(preds[0],dim=1).numpy())]\n",
    "target =[y_tfms[1].vocab[i] for i in preds[1].numpy()]\n",
    "\n",
    "from sklearn.metrics import classification_report, accuracy_score,confusion_matrix\n",
    "\n",
    "print(classification_report(list(pred_icd),list(target)))"
   ]
  }
 ],
 "metadata": {
  "kernelspec": {
   "display_name": "Python 3",
   "language": "python",
   "name": "python3"
  },
  "language_info": {
   "codemirror_mode": {
    "name": "ipython",
    "version": 3
   },
   "file_extension": ".py",
   "mimetype": "text/x-python",
   "name": "python",
   "nbconvert_exporter": "python",
   "pygments_lexer": "ipython3",
   "version": "3.6.9"
  },
  "toc": {
   "base_numbering": 1,
   "nav_menu": {},
   "number_sections": true,
   "sideBar": true,
   "skip_h1_title": false,
   "title_cell": "Table of Contents",
   "title_sidebar": "Contents",
   "toc_cell": false,
   "toc_position": {},
   "toc_section_display": true,
   "toc_window_display": true
  },
  "varInspector": {
   "cols": {
    "lenName": 16,
    "lenType": 16,
    "lenVar": 40
   },
   "kernels_config": {
    "python": {
     "delete_cmd_postfix": "",
     "delete_cmd_prefix": "del ",
     "library": "var_list.py",
     "varRefreshCmd": "print(var_dic_list())"
    },
    "r": {
     "delete_cmd_postfix": ") ",
     "delete_cmd_prefix": "rm(",
     "library": "var_list.r",
     "varRefreshCmd": "cat(var_dic_list()) "
    }
   },
   "types_to_exclude": [
    "module",
    "function",
    "builtin_function_or_method",
    "instance",
    "_Feature"
   ],
   "window_display": false
  }
 },
 "nbformat": 4,
 "nbformat_minor": 4
}
